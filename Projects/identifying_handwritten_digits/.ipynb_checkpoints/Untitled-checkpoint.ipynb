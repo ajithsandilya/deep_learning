{
 "cells": [
  {
   "cell_type": "code",
   "execution_count": 13,
   "id": "64611a88-2b7e-4555-80e7-c1da8e978149",
   "metadata": {},
   "outputs": [],
   "source": [
    "import torch \n",
    "import torch.nn as nn \n",
    "import torchvision.datasets as dsets \n",
    "import torchvision.transforms as transforms \n",
    "from torch.autograd import Variable \n"
   ]
  },
  {
   "cell_type": "code",
   "execution_count": 14,
   "id": "09358732-331c-4147-833a-8542ffd53176",
   "metadata": {},
   "outputs": [],
   "source": [
    "# MNIST Dataset (Images and Labels) \n",
    "train_dataset = dsets.MNIST(root ='./data', \n",
    "\t\t\t\t\t\t\ttrain = True, \n",
    "\t\t\t\t\t\t\ttransform = transforms.ToTensor(), \n",
    "\t\t\t\t\t\t\tdownload = True) \n",
    "\n",
    "test_dataset = dsets.MNIST(root ='./data', \n",
    "\t\t\t\t\t\ttrain = False, \n",
    "\t\t\t\t\t\ttransform = transforms.ToTensor()) \n",
    "\n",
    "# Dataset Loader (Input Pipeline) \n",
    "train_loader = torch.utils.data.DataLoader(dataset = train_dataset, \n",
    "\t\t\t\t\t\t\t\t\t\tbatch_size = 100, \n",
    "\t\t\t\t\t\t\t\t\t\tshuffle = True) \n",
    "\n",
    "test_loader = torch.utils.data.DataLoader(dataset = test_dataset, \n",
    "\t\t\t\t\t\t\t\t\t\tbatch_size = 100, \n",
    "\t\t\t\t\t\t\t\t\t\tshuffle = False) \n",
    "\n",
    "\n"
   ]
  },
  {
   "cell_type": "code",
   "execution_count": 15,
   "id": "97d9c9e7-8dc2-4bb1-bb96-4dc99ec38fcc",
   "metadata": {},
   "outputs": [],
   "source": [
    "# Hyper Parameters  \n",
    "input_size = 784\n",
    "num_classes = 10\n",
    "num_epochs = 5\n",
    "learning_rate = 0.001\n",
    "\n",
    "class LogisticRegression(nn.Module): \n",
    "    def __init__(self, input_size, num_classes): \n",
    "        super(LogisticRegression, self).__init__() \n",
    "        self.linear = nn.Linear(input_size, num_classes) \n",
    "  \n",
    "    def forward(self, x): \n",
    "        out = self.linear(x) \n",
    "        return out \n"
   ]
  },
  {
   "cell_type": "code",
   "execution_count": 16,
   "id": "2bfab2cf-48e2-46b2-8aea-0df7f2709f00",
   "metadata": {},
   "outputs": [],
   "source": [
    "model = LogisticRegression(input_size, num_classes) "
   ]
  },
  {
   "cell_type": "code",
   "execution_count": 17,
   "id": "8e2461a1-b92d-461c-86b5-fb02fcf98153",
   "metadata": {},
   "outputs": [],
   "source": [
    "criterion = nn.CrossEntropyLoss() \n",
    "optimizer = torch.optim.SGD(model.parameters(), lr = learning_rate) \n"
   ]
  },
  {
   "cell_type": "code",
   "execution_count": 41,
   "id": "1e40d120-407c-4dfe-97ea-7efaeffb0199",
   "metadata": {},
   "outputs": [
    {
     "name": "stdout",
     "output_type": "stream",
     "text": [
      "Epoch: [ 1/ 5], Step: [ 100/ 600],Loss: 0.6679\n",
      "Epoch: [ 1/ 5], Step: [ 200/ 600],Loss: 0.7151\n",
      "Epoch: [ 1/ 5], Step: [ 300/ 600],Loss: 0.7328\n",
      "Epoch: [ 1/ 5], Step: [ 400/ 600],Loss: 0.7197\n",
      "Epoch: [ 1/ 5], Step: [ 500/ 600],Loss: 0.6733\n",
      "Epoch: [ 1/ 5], Step: [ 600/ 600],Loss: 0.7116\n",
      "Epoch: [ 2/ 5], Step: [ 100/ 600],Loss: 0.6880\n",
      "Epoch: [ 2/ 5], Step: [ 200/ 600],Loss: 0.6709\n",
      "Epoch: [ 2/ 5], Step: [ 300/ 600],Loss: 0.6351\n",
      "Epoch: [ 2/ 5], Step: [ 400/ 600],Loss: 0.8518\n",
      "Epoch: [ 2/ 5], Step: [ 500/ 600],Loss: 0.5186\n",
      "Epoch: [ 2/ 5], Step: [ 600/ 600],Loss: 0.6679\n",
      "Epoch: [ 3/ 5], Step: [ 100/ 600],Loss: 0.6316\n",
      "Epoch: [ 3/ 5], Step: [ 200/ 600],Loss: 0.5914\n",
      "Epoch: [ 3/ 5], Step: [ 300/ 600],Loss: 0.5625\n",
      "Epoch: [ 3/ 5], Step: [ 400/ 600],Loss: 0.6405\n",
      "Epoch: [ 3/ 5], Step: [ 500/ 600],Loss: 0.6744\n",
      "Epoch: [ 3/ 5], Step: [ 600/ 600],Loss: 0.6455\n",
      "Epoch: [ 4/ 5], Step: [ 100/ 600],Loss: 0.6353\n",
      "Epoch: [ 4/ 5], Step: [ 200/ 600],Loss: 0.5650\n",
      "Epoch: [ 4/ 5], Step: [ 300/ 600],Loss: 0.6698\n",
      "Epoch: [ 4/ 5], Step: [ 400/ 600],Loss: 0.6624\n",
      "Epoch: [ 4/ 5], Step: [ 500/ 600],Loss: 0.7165\n",
      "Epoch: [ 4/ 5], Step: [ 600/ 600],Loss: 0.7049\n",
      "Epoch: [ 5/ 5], Step: [ 100/ 600],Loss: 0.6325\n",
      "Epoch: [ 5/ 5], Step: [ 200/ 600],Loss: 0.6204\n",
      "Epoch: [ 5/ 5], Step: [ 300/ 600],Loss: 0.5939\n",
      "Epoch: [ 5/ 5], Step: [ 400/ 600],Loss: 0.6298\n",
      "Epoch: [ 5/ 5], Step: [ 500/ 600],Loss: 0.6462\n",
      "Epoch: [ 5/ 5], Step: [ 600/ 600],Loss: 0.5847\n"
     ]
    }
   ],
   "source": [
    "# Training the Model \n",
    "for epoch in range(num_epochs): \n",
    "    for i, (images, labels) in enumerate(train_loader): \n",
    "        images = Variable(images.view(-1, 28 * 28)) \n",
    "        labels = Variable(labels) \n",
    "  \n",
    "        # Forward + Backward + Optimize \n",
    "        optimizer.zero_grad() \n",
    "        outputs = model(images) \n",
    "        loss = criterion(outputs, labels) \n",
    "        loss.backward() \n",
    "        optimizer.step() \n",
    "        if (i + 1) % 100 == 0: \n",
    "         print('Epoch: [% d/% d], Step: [% d/% d],Loss: %.4f'% (epoch + 1, num_epochs,i+1, len(train_dataset) // batch_size, loss.data))\n",
    "\n",
    "    \n",
    "       "
   ]
  },
  {
   "cell_type": "code",
   "execution_count": 43,
   "id": "c8bda57a-b015-4d90-aca0-d147f2a6e8fa",
   "metadata": {},
   "outputs": [
    {
     "name": "stdout",
     "output_type": "stream",
     "text": [
      "Accuracy of the model on the 10000 test images:  86 %\n"
     ]
    }
   ],
   "source": [
    "# Test the Model \n",
    "correct = 0\n",
    "total = 0\n",
    "for images, labels in test_loader: \n",
    "    images = Variable(images.view(-1, 28 * 28)) \n",
    "    outputs = model(images) \n",
    "    _, predicted = torch.max(outputs.data, 1) \n",
    "    total += labels.size(0) \n",
    "    correct += (predicted == labels).sum() \n",
    "  \n",
    "print('Accuracy of the model on the 10000 test images: % d %%' % ( \n",
    "            100 * correct / total)) \n"
   ]
  },
  {
   "cell_type": "code",
   "execution_count": null,
   "id": "83262a04-735c-43cb-96d6-fd50ce29ebbf",
   "metadata": {},
   "outputs": [],
   "source": []
  }
 ],
 "metadata": {
  "kernelspec": {
   "display_name": "Python 3 (ipykernel)",
   "language": "python",
   "name": "python3"
  },
  "language_info": {
   "codemirror_mode": {
    "name": "ipython",
    "version": 3
   },
   "file_extension": ".py",
   "mimetype": "text/x-python",
   "name": "python",
   "nbconvert_exporter": "python",
   "pygments_lexer": "ipython3",
   "version": "3.10.12"
  }
 },
 "nbformat": 4,
 "nbformat_minor": 5
}
